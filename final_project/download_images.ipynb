{
 "cells": [
  {
   "cell_type": "markdown",
   "id": "2218691f",
   "metadata": {
    "cellId": "tsbyowqe8w03q4ejbznlnh",
    "execution_id": "7f5f124e-d298-4953-aec3-79315beddba2"
   },
   "source": [
    "### Сбор фотографий с привязкой к гео-координатам\n",
    "\n",
    "Загрузка фотографий с привязкой к координатам с помощью API VK для доступа к общедоступным фотографиям photos.search."
   ]
  },
  {
   "cell_type": "code",
   "execution_count": 75,
   "id": "5e957e1d",
   "metadata": {
    "cellId": "fyz0421u1f9waixrmu3j4s"
   },
   "outputs": [],
   "source": [
    "import numpy as np\n",
    "from datetime import datetime, timedelta, date, time\n",
    "import time\n",
    "import random\n",
    "import requests"
   ]
  },
  {
   "cell_type": "markdown",
   "id": "74cf725e",
   "metadata": {
    "cellId": "0ohx3bhoe4afanz4vwbxb08",
    "execution_id": "28f36836-5745-4d82-99ad-efba2b200619"
   },
   "source": [
    "Определяем интересующие границы, глубину поиска по времени и число шагов в каждом измерении.\n",
    "Объявим функцию для вычисления расстояния по координатам."
   ]
  },
  {
   "cell_type": "code",
   "execution_count": 76,
   "id": "e7163c33",
   "metadata": {
    "cellId": "jjzsvvewosswtwyfp9mkej"
   },
   "outputs": [],
   "source": [
    "top_left = (58.689155, 36.575942)\n",
    "top_right = (58.689155, 40.421157)\n",
    "bottom_left = (53.81445180, 36.575942)\n",
    "bottom_right = (53.81445180, 40.421157)\n",
    "\n",
    "years = 3\n",
    "timeperiod = (int((datetime.now() - timedelta(days=365 * years)).timestamp()), int(datetime.now().timestamp()))\n",
    "\n",
    "steps = 100"
   ]
  },
  {
   "cell_type": "code",
   "execution_count": 77,
   "id": "0faf1457",
   "metadata": {
    "cellId": "i31dsn0chy9jqbk6ytsn0c"
   },
   "outputs": [
    {
     "name": "stdout",
     "output_type": "stream",
     "text": [
      "542.0422647379957\n"
     ]
    }
   ],
   "source": [
    "import math\n",
    "\n",
    "def distance(lat1, lon1, lat2, lon2):\n",
    "    R = 6371  # Радиус Земли в км\n",
    "    dLat = math.radians(lat2 - lat1)\n",
    "    dLon = math.radians(lon2 - lon1)\n",
    "    lat1 = math.radians(lat1)\n",
    "    lat2 = math.radians(lat2)\n",
    "\n",
    "    a = math.sin(dLat/2) * math.sin(dLat/2) + \\\n",
    "        math.sin(dLon/2) * math.sin(dLon/2) * math.cos(lat1) * math.cos(lat2)\n",
    "    c = 2 * math.atan2(math.sqrt(a), math.sqrt(1-a))\n",
    "    d = R * c\n",
    "    return d\n",
    "\n",
    "lat1, lon1 = top_right\n",
    "lat2, lon2 = bottom_right\n",
    "print(distance(lat1, lon1, lat2, lon2))\n"
   ]
  },
  {
   "cell_type": "code",
   "execution_count": 78,
   "id": "01d5d2a3",
   "metadata": {
    "cellId": "14fcjc51kg8nb0udkoluls"
   },
   "outputs": [],
   "source": [
    "lat_values = np.linspace(bottom_left[0], top_left[0], steps)\n",
    "lon_values = np.linspace(top_left[1], top_right[1], steps)\n",
    "radius = math.floor(distance(lat_values[0], lon_values[0], lat_values[1], lon_values[1]) * 1000 / 2)"
   ]
  },
  {
   "cell_type": "code",
   "execution_count": 79,
   "id": "49695f7b",
   "metadata": {
    "cellId": "lo7mw2h338ekaovoafox9"
   },
   "outputs": [],
   "source": [
    "def format_date(timestamp):\n",
    "    return datetime.fromtimestamp(timestamp).strftime('%Y-%m-%d')"
   ]
  },
  {
   "cell_type": "code",
   "execution_count": 80,
   "id": "97ed441c",
   "metadata": {
    "cellId": "zum6r40j2mbjdpn1lkuav"
   },
   "outputs": [
    {
     "name": "stdout",
     "output_type": "stream",
     "text": [
      "\n",
      "      Getting photos\n",
      "          from lat: 53.8144518, lon: 36.575942\n",
      "          to lat: 58.689155, lon: 40.421157 \n",
      "          with 100 steps each \n",
      "          with radius 3019 meters\n",
      "          between 2021-01-19 and 2024-01-19\n",
      "\n"
     ]
    }
   ],
   "source": [
    "print(f\"\"\"\n",
    "      Getting photos\n",
    "          from lat: {lat_values[0]}, lon: {lon_values[0]}\n",
    "          to lat: {lat_values[-1]}, lon: {lon_values[-1]} \n",
    "          with {steps} steps each \n",
    "          with radius {radius} meters\n",
    "          between {format_date(timeperiod[0])} and {format_date(timeperiod[1])}\n",
    "\"\"\")"
   ]
  },
  {
   "cell_type": "markdown",
   "id": "04151590",
   "metadata": {
    "cellId": "wld1l1v7psgitkwmrncjfd",
    "execution_id": "8701409f-e183-496b-b214-ef8d23778323"
   },
   "source": [
    "Задаем токен для доступа к API и объявляем функцию для запроса - здесь обычный get-интерфейс с url параметрами."
   ]
  },
  {
   "cell_type": "code",
   "execution_count": 16,
   "id": "bc0f4956",
   "metadata": {
    "cellId": "5igcywskkrtpu52za49ntr"
   },
   "outputs": [],
   "source": [
    "VK_ACCESS_TOKEN = ''\n",
    "VK_VERSION = ''"
   ]
  },
  {
   "cell_type": "code",
   "execution_count": 17,
   "id": "47c122bf",
   "metadata": {
    "cellId": "wbzytxwnf2a31pl398o5g4"
   },
   "outputs": [],
   "source": [
    "def get_user_photos(geo, radius, timeperiod, offset=0):\n",
    "    params = {\n",
    "        'lat': geo[0],\n",
    "        'long': geo[1],\n",
    "        'count': '1000',\n",
    "        'offset': offset,\n",
    "        'radius': radius,\n",
    "        'start_time': timeperiod[0],\n",
    "        'end_time': timeperiod[1],\n",
    "        'access_token': VK_ACCESS_TOKEN,\n",
    "        'v': VK_VERSION,\n",
    "        'sort': 0\n",
    "    }\n",
    "    return requests.get(\"https://api.vk.com/method/photos.search\",\n",
    "                        params=params, verify=True).json()"
   ]
  },
  {
   "cell_type": "markdown",
   "id": "9bf11886",
   "metadata": {
    "cellId": "pzx3fbi5hfo95wl9s8z38p",
    "execution_id": "7f9233bb-5ea2-4273-afdd-0f804db342f6"
   },
   "source": [
    "Последовательно проходимс по всем координатам, сохраняя в переменную items данные об изображениях. "
   ]
  },
  {
   "cell_type": "code",
   "execution_count": null,
   "id": "f58eea9d",
   "metadata": {
    "cellId": "3ussrncnjbeprj3xhcmkoc"
   },
   "outputs": [],
   "source": [
    "items = []\n",
    "\n",
    "for lat in lat_values:\n",
    "    for long in lon_values:\n",
    "        resp = get_user_photos((lat, long), radius, timeperiod)\n",
    "        new_items = resp['response']['items']\n",
    "        period = round(random.random() * 5);\n",
    "        print(f'For {lat}, {long} got {len(new_items)} items, sleep for {period}s')\n",
    "        time.sleep(period)\n",
    "        items = items + new_items"
   ]
  },
  {
   "cell_type": "markdown",
   "id": "d6e1983b",
   "metadata": {
    "cellId": "15fqv6ww9akyaonnwbnrd",
    "execution_id": "26a5c101-08f7-4271-bbd2-598daad3176c"
   },
   "source": [
    "Сохраняем изображения, имеющие привязку к координатам."
   ]
  },
  {
   "cell_type": "code",
   "execution_count": null,
   "id": "56c3113f",
   "metadata": {
    "cellId": "knoh266xtk1qm71xjxyuu"
   },
   "outputs": [],
   "source": [
    "print_count = 100\n",
    "\n",
    "for i, img in enumerate(items):\n",
    "    if i % print_count == 0:\n",
    "        period = round(random.random() * 10);\n",
    "        print(f'Processed {i} images, sleep for {period}s')\n",
    "        time.sleep(period)\n",
    "    if 'lat' in img and 'long' in img:\n",
    "        lat = img['lat']\n",
    "        long = img['long']\n",
    "        url = img['sizes'][-1]['url']\n",
    "        response = requests.get(url)\n",
    "        with open(f'raw_images/{lat},{long}.jpg', 'wb') as f:\n",
    "            f.write(response.content)"
   ]
  },
  {
   "cell_type": "markdown",
   "id": "ce0583b0",
   "metadata": {
    "cellId": "3bcg8kujyl6bu9qndg2d67",
    "execution_id": "36faa12b-4ce2-4c06-9e76-23d9f33b93fb"
   },
   "source": [
    "Итого имеем на выходе папку с изображениями, названия которых соответствуют значениям широты и долготы, где был сделан снимок."
   ]
  },
  {
   "cell_type": "code",
   "execution_count": null,
   "id": "5d763373",
   "metadata": {
    "cellId": "zf7z84cvvvo1fcfxwbbxt2"
   },
   "outputs": [],
   "source": []
  }
 ],
 "metadata": {
  "language_info": {
   "codemirror_mode": {
    "name": "ipython",
    "version": 3
   },
   "file_extension": ".py",
   "mimetype": "text/x-python",
   "name": "python",
   "nbconvert_exporter": "python",
   "pygments_lexer": "ipython3",
   "version": "3.7.7"
  },
  "notebookId": "f18e3833-1dd5-4472-90a9-bd03c328cee7",
  "notebookPath": "final_project/generate_landscapes.ipynb"
 },
 "nbformat": 4,
 "nbformat_minor": 5
}
