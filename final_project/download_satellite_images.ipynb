{
 "cells": [
  {
   "cell_type": "markdown",
   "id": "97bb283e",
   "metadata": {
    "cellId": "7e5nn57fcy6hs2x31k5nvi",
    "execution_id": "2a0a5238-a377-41a1-aefa-3f0770b58672"
   },
   "source": [
    "### Загрузка спутниковых снимков\n",
    "\n",
    "По координатам загружаем тайлы 450x450, используя API Яндекс Карт."
   ]
  },
  {
   "cell_type": "code",
   "execution_count": null,
   "id": "dc5cee18",
   "metadata": {
    "cellId": "79rri677cyp6a24x88sado"
   },
   "outputs": [],
   "source": [
    "import torch\n",
    "import torchvision.models as models\n",
    "import torchvision.transforms as transforms\n",
    "from torch.autograd import Variable as V\n",
    "from torch.nn import functional as F\n",
    "\n",
    "from PIL import Image,  UnidentifiedImageError\n",
    "import matplotlib.pyplot as plt\n",
    "import numpy as np\n",
    "import os"
   ]
  },
  {
   "cell_type": "markdown",
   "id": "e4ff228e",
   "metadata": {
    "cellId": "io8m35jx1aip2cmagubeo",
    "execution_id": "6d0f8c6f-de6d-4879-8f6d-c703b6884180"
   },
   "source": [
    "Для каждого изображения из папки images (это пейзажные фотографии с привязкой к координате), загружаем спутниковый снимок в той же точке."
   ]
  },
  {
   "cell_type": "code",
   "execution_count": 40,
   "id": "1ac5a2ee",
   "metadata": {
    "cellId": "3vfmtwe5rlhk1nowaxthz8"
   },
   "outputs": [],
   "source": [
    "src_path = './images';\n",
    "dst_path = './satellites';\n",
    "file_list = os.listdir(src_path)"
   ]
  },
  {
   "cell_type": "code",
   "execution_count": 41,
   "id": "ffd0d35e",
   "metadata": {
    "cellId": "2dpbin4q3me52vinimg3gw"
   },
   "outputs": [],
   "source": [
    "import requests\n",
    "\n",
    "def get_satellite_view(ll):\n",
    "    params = {\n",
    "        'll': ll,\n",
    "        'size': '450,450',\n",
    "        'z': 15,\n",
    "        'l': 'sat'\n",
    "    }\n",
    "    return requests.get(\"https://static-maps.yandex.ru/1.x/\",\n",
    "                        params=params, verify=True)"
   ]
  },
  {
   "cell_type": "code",
   "execution_count": 43,
   "id": "d2540177",
   "metadata": {
    "cellId": "0rziwzssj9bg11cuemil3n"
   },
   "outputs": [],
   "source": [
    "for i, file_name in enumerate(file_list):\n",
    "    if not file_name.endswith('.jpg'):\n",
    "        continue\n",
    "        \n",
    "    lat, long = file_name.split('.jpg')[0].split(',')\n",
    "    lat = '{:.6f}'.format(float(lat))\n",
    "    long = '{:.6f}'.format(float(long))\n",
    "    ll = lat + ',' + long\n",
    "\n",
    "    response = get_satellite_view(long + ',' + lat)\n",
    "    with open(f'./satellites/{file_name}', 'wb') as f:\n",
    "        f.write(response.content)"
   ]
  },
  {
   "cell_type": "markdown",
   "id": "2653f2f0",
   "metadata": {
    "cellId": "mcivjxdxhyl2fiyrs2tju2",
    "execution_id": "8bfd39ae-c3bd-4ded-8569-d3f826f4accb"
   },
   "source": [
    "Итого имеем для каждого снимка местности соответствующий ему спутниковый снимок"
   ]
  },
  {
   "cell_type": "code",
   "execution_count": null,
   "id": "3d840b8b",
   "metadata": {
    "cellId": "9t0f8vtdkx67so163q0t8q"
   },
   "outputs": [],
   "source": []
  }
 ],
 "metadata": {
  "language_info": {
   "codemirror_mode": {
    "name": "ipython",
    "version": 3
   },
   "file_extension": ".py",
   "mimetype": "text/x-python",
   "name": "python",
   "nbconvert_exporter": "python",
   "pygments_lexer": "ipython3",
   "version": "3.7.7"
  },
  "notebookId": "ff9ce3f9-992d-48c3-8fec-9c5631a7b39b",
  "notebookPath": "final_project/generate_satellites.ipynb"
 },
 "nbformat": 4,
 "nbformat_minor": 5
}
