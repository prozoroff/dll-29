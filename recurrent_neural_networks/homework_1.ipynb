{
 "cells": [
  {
   "cell_type": "code",
   "execution_count": 169,
   "id": "9369aa67",
   "metadata": {
    "cellId": "6uye2fweral5nyaznzl9ki"
   },
   "outputs": [],
   "source": [
    "#!g1.1\n",
    "\n",
    "import pandas as pd\n",
    "import time\n",
    "import torch\n",
    "import numpy as np\n",
    "import matplotlib.pyplot as plt\n",
    "from torch.utils.data import TensorDataset\n",
    "from collections import defaultdict\n",
    "import torch.utils.data as data\n",
    "from torch.optim.lr_scheduler import CyclicLR\n",
    "\n",
    "from IPython.display import clear_output"
   ]
  },
  {
   "cell_type": "code",
   "execution_count": 318,
   "id": "a3fa0c59",
   "metadata": {
    "cellId": "n39kp2qlfsq5pl8enrhig8"
   },
   "outputs": [
    {
     "data": {
      "text/plain": [
       "'cuda'"
      ]
     },
     "execution_count": 318,
     "metadata": {},
     "output_type": "execute_result"
    }
   ],
   "source": [
    "#!g1.1\n",
    "device = \"cuda\" if torch.cuda.is_available() else \"cpu\"\n",
    "device"
   ]
  },
  {
   "cell_type": "markdown",
   "id": "95ba1152",
   "metadata": {
    "cellId": "sw0fulv521b7vugic5pg8p"
   },
   "source": [
    "## 1. Шифр Цезаря\n",
    "\n",
    "Учим рекурсивную нейронную сеть расшифровывать текст"
   ]
  },
  {
   "cell_type": "markdown",
   "id": "f67cf188",
   "metadata": {
    "cellId": "tnlhqqtujwav2v3hx55ek"
   },
   "source": [
    "### Общие функции\n",
    "\n",
    "Объявим функции для обучения и отображения кривых"
   ]
  },
  {
   "cell_type": "code",
   "execution_count": 338,
   "id": "3d8286bd",
   "metadata": {
    "cellId": "rmpnylukmz8stjl2cy6xrb"
   },
   "outputs": [],
   "source": [
    "#!g1.1\n",
    "# Объявим функцию для отображения кривых обучения\n",
    "\n",
    "def plot_learning_curves(history):\n",
    "    fig = plt.figure(figsize=(20, 5))\n",
    "\n",
    "    plt.subplot(1,3,1)\n",
    "    plt.plot(history['loss']['train'], label='train')\n",
    "    plt.plot(history['loss']['val'], label='val')\n",
    "    plt.ylabel('loss', fontsize=15)\n",
    "    plt.xlabel('epoch', fontsize=15)\n",
    "    plt.grid()\n",
    "    plt.legend()\n",
    "\n",
    "    plt.subplot(1,3,2)\n",
    "    plt.plot(history['acc']['train'], label='train')\n",
    "    plt.plot(history['acc']['val'], label='val')\n",
    "    plt.ylabel('accuracy', fontsize=15)\n",
    "    plt.xlabel('epoch', fontsize=15)\n",
    "    plt.grid()\n",
    "    plt.legend()\n",
    "    \n",
    "    plt.subplot(1,3,3)\n",
    "    for scheduler_name in history['lr']:\n",
    "        plt.plot(history['lr'][scheduler_name], label=scheduler_name)\n",
    "    plt.ylabel('lr', fontsize=15)\n",
    "    plt.xlabel('epoch', fontsize=15)\n",
    "    plt.grid()\n",
    "    plt.legend()\n",
    "    \n",
    "    plt.show()\n",
    "\n",
    "\n",
    "# Объявим функцию для обучения\n",
    "\n",
    "def train(\n",
    "    model,\n",
    "    criterion,\n",
    "    optimizer,\n",
    "    schedulers,\n",
    "    train_batch_gen,\n",
    "    val_batch_gen,\n",
    "    num_epochs=10\n",
    "):\n",
    "    # История значений точности модели и функции потерь\n",
    "    history = defaultdict(lambda: defaultdict(list))\n",
    "    alphabet_length = model.linear.out_features\n",
    "\n",
    "    for epoch in range(num_epochs):\n",
    "        train_loss = 0\n",
    "        train_acc = 0\n",
    "        val_loss = 0\n",
    "        val_acc = 0\n",
    "\n",
    "        start_time = time.time()\n",
    "\n",
    "        # Устанавливаем поведение dropout / batch_norm в режим обучение\n",
    "        model.train(True)\n",
    "\n",
    "        # На каждой \"эпохе\" делаем полный проход по данным\n",
    "        for X_batch, y_batch in train_batch_gen:\n",
    "            X_batch = X_batch.to(device)\n",
    "            y_batch = y_batch.to(device).flatten()\n",
    "\n",
    "            logits, hidden = model(X_batch)\n",
    "            logits = logits.view(-1, alphabet_length)\n",
    "    \n",
    "            loss = criterion(logits, y_batch.long().to(device))\n",
    "\n",
    "            loss.backward()\n",
    "            optimizer.step()\n",
    "            optimizer.zero_grad()\n",
    "\n",
    "            train_loss += np.sum(loss.detach().cpu().numpy())\n",
    "            y_pred = logits.max(1)[1].detach().cpu().numpy()\n",
    "            train_acc += np.mean(y_batch.cpu().numpy() == y_pred)\n",
    "            \n",
    "            # Применяем LR Schedulers в конце шага\n",
    "            for scheduler in schedulers.get(\"batch\", []):\n",
    "                scheduler.step()\n",
    "        \n",
    "        # Применяем LR Schedulers в конце эпохи\n",
    "        for scheduler in schedulers.get(\"epoch\", []):\n",
    "            scheduler.step()\n",
    "\n",
    "        train_loss /= len(train_batch_gen)\n",
    "        train_acc /= len(train_batch_gen)\n",
    "        history['loss']['train'].append(train_loss)\n",
    "        history['acc']['train'].append(train_acc)\n",
    "        \n",
    "        for scheduler in schedulers.get(\"epoch\", []):\n",
    "            history['lr'][scheduler.__class__.__name__].append(scheduler.get_last_lr())\n",
    "        for scheduler in schedulers.get(\"batch\", []):\n",
    "            history['lr'][scheduler.__class__.__name__].append(scheduler.get_last_lr())\n",
    "\n",
    "        # Устанавливаем поведение dropout / batch_norm в режим тестирования\n",
    "        model.train(False)\n",
    "\n",
    "        # Полностью проходим по валидационному датасету\n",
    "        for X_batch, y_batch in val_batch_gen:\n",
    "            X_batch = X_batch.to(device)\n",
    "            y_batch = y_batch.to(device).flatten()\n",
    "\n",
    "            logits, hidden = model(X_batch)\n",
    "            logits = logits.view(-1, alphabet_length)\n",
    "            loss = criterion(logits, y_batch.long().to(device))\n",
    "            val_loss += np.sum(loss.detach().cpu().numpy())\n",
    "            y_pred = logits.max(1)[1].detach().cpu().numpy()\n",
    "            val_acc += np.mean(y_batch.cpu().numpy() == y_pred)\n",
    "\n",
    "        val_loss /= len(val_batch_gen)\n",
    "        val_acc /= len(val_batch_gen)\n",
    "        history['loss']['val'].append(val_loss)\n",
    "        history['acc']['val'].append(val_acc)\n",
    "\n",
    "        clear_output()\n",
    "\n",
    "        # Печатаем результаты после каждой эпохи\n",
    "        print(\"Epoch {} of {} took {:.3f}s\".format(\n",
    "            epoch + 1, num_epochs, time.time() - start_time))\n",
    "        print(\"  training loss (in-iteration): \\t{:.6f}\".format(train_loss))\n",
    "        print(\"  validation loss (in-iteration): \\t{:.6f}\".format(val_loss))\n",
    "        print(\"  training accuracy: \\t\\t\\t{:.2f} %\".format(train_acc * 100))\n",
    "        print(\"  validation accuracy: \\t\\t\\t{:.2f} %\".format(val_acc * 100))\n",
    "\n",
    "        plot_learning_curves(history)\n",
    "\n",
    "    return model, history"
   ]
  },
  {
   "cell_type": "markdown",
   "id": "c0e28375",
   "metadata": {
    "cellId": "d4j2pbk8hketb2325t34"
   },
   "source": [
    "### Подготавливаем данные\n",
    "\n",
    "Читаем текст из файла, чистим его и приводим к нижнему регистру. Нарезаем на предложения и формируем из них два датасета: для обучения и валидации"
   ]
  },
  {
   "cell_type": "code",
   "execution_count": 172,
   "id": "ba508225",
   "metadata": {
    "cellId": "32hsq844phffs1li5wnsm4"
   },
   "outputs": [],
   "source": [
    "#!g1.1\n",
    "# Читаем текстовый файл, формируем строку с алфавитом и массив примеров текста\n",
    "\n",
    "file_path = './karamazov-brothers.txt'\n",
    "sample_size = 60\n",
    "caesar_offset = 4\n",
    "\n",
    "alphabet = 'абвгдеёжзийклмнопрстуфхцчшщъыьэюя '\n",
    "\n",
    "with open('./karamazov-brothers.txt', 'r', encoding='utf-8') as f:\n",
    "    text = f.read()\n",
    "    text = text.lower()\n",
    "    text = ''.join(filter(lambda x: x in alphabet, text))\n",
    "\n",
    "text_samples = [text[i:i+sample_size] for i in range(0, len(text), sample_size)][:-1]"
   ]
  },
  {
   "cell_type": "code",
   "execution_count": 173,
   "id": "b1a4626d",
   "metadata": {
    "cellId": "kuzmicanhhsj439nk45ucq"
   },
   "outputs": [
    {
     "data": {
      "text/plain": [
       "(['самый сложный самый многоуровневый и неоднозначный из романо',\n",
       "  'в достоевского который критики считали то интеллектуальным д',\n",
       "  'етективом то ранним постмодернизмом то  лучшим из произведен',\n",
       "  'ий о загадочной русской душе роман легший в основу десятков ',\n",
       "  'экранизаций  от предельно точных до самых отвлеченных  но не'],\n",
       " 28666)"
      ]
     },
     "execution_count": 173,
     "metadata": {},
     "output_type": "execute_result"
    }
   ],
   "source": [
    "#!g1.1\n",
    "text_samples[0:5], len(text_samples)"
   ]
  },
  {
   "cell_type": "code",
   "execution_count": 174,
   "id": "fc578d15",
   "metadata": {
    "cellId": "8nas2bh48kuxsdwe5qxhsq"
   },
   "outputs": [],
   "source": [
    "#!g1.1\n",
    "y = torch.tensor([[alphabet.find(ch) for ch in sample] for sample in text_samples]).to(device)\n",
    "X = torch.tensor([[alphabet.find(ch) + caesar_offset for ch in sample] for sample in text_samples]).to(device)"
   ]
  },
  {
   "cell_type": "code",
   "execution_count": 175,
   "id": "fecd9cc2",
   "metadata": {
    "cellId": "u7optgrl38psmn40598t6"
   },
   "outputs": [],
   "source": [
    "#!g1.1\n",
    "dataset = TensorDataset(X, y)\n",
    "train_size = int(0.9 * len(dataset))\n",
    "val_size = len(dataset) - train_size\n",
    "train_dataset, val_dataset = data.random_split(dataset, [train_size, val_size])"
   ]
  },
  {
   "cell_type": "markdown",
   "id": "81b0d6f0",
   "metadata": {
    "cellId": "hw1xll4ap7d4qwd6072je"
   },
   "source": [
    "### Обучаем модель\n",
    "\n",
    "Сделаем рекуррентную сеть для 24-размерного пространства слов/символов"
   ]
  },
  {
   "cell_type": "code",
   "execution_count": 176,
   "id": "204bc2a9",
   "metadata": {
    "cellId": "56aevu0bg5effvddtnp8l"
   },
   "outputs": [],
   "source": [
    "#!g1.1\n",
    "class RNN(torch.nn.Module):\n",
    "    \n",
    "    def __init__(self):\n",
    "        super().__init__()\n",
    "        self.embed = torch.nn.Embedding(len(alphabet) + caesar_offset, 32)\n",
    "        self.rnn = torch.nn.RNN(32, 128)\n",
    "        self.linear = torch.nn.Linear(128, len(alphabet) + caesar_offset)\n",
    "\n",
    "    def forward(self, sentence, state=None):\n",
    "        embed = self.embed(sentence)\n",
    "        o, h = self.rnn(embed)\n",
    "        return self.linear(o)"
   ]
  },
  {
   "cell_type": "code",
   "execution_count": 177,
   "id": "5241d611",
   "metadata": {
    "cellId": "np03sdgvxhw95ng01rjj"
   },
   "outputs": [],
   "source": [
    "#!g1.1\n",
    "model = RNN().to(device)\n",
    "criterion = torch.nn.CrossEntropyLoss().to(device)\n",
    "optimizer = torch.optim.SGD(model.parameters(), lr=0.05)\n",
    "train_gen = data.DataLoader(train_dataset, batch_size=10, shuffle=True)\n",
    "val_gen = data.DataLoader(val_dataset, batch_size=10, shuffle=False)"
   ]
  },
  {
   "cell_type": "code",
   "execution_count": 178,
   "id": "567db3f9",
   "metadata": {
    "cellId": "j13ucbkoa69t6nqzyonxw"
   },
   "outputs": [
    {
     "name": "stdout",
     "output_type": "stream",
     "text": [
      "Epoch 10 of 10 took 6.494s\n",
      "  training loss (in-iteration): \t0.000085\n",
      "  validation loss (in-iteration): \t0.000080\n",
      "  training accuracy: \t\t\t100.00 %\n",
      "  validation accuracy: \t\t\t100.00 %\n"
     ]
    },
    {
     "data": {
      "image/png": "[encoded data removed]",
      "text/plain": [
       "<Figure size 1440x360 with 3 Axes>"
      ]
     },
     "metadata": {
      "needs_background": "light"
     },
     "output_type": "display_data"
    }
   ],
   "source": [
    "#!g1.1\n",
    "model, history = train(\n",
    "    model,\n",
    "    criterion,\n",
    "    optimizer,\n",
    "    {\"batch\": [CyclicLR(optimizer,0.001,0.1)]},\n",
    "    train_gen,\n",
    "    val_gen\n",
    ")"
   ]
  },
  {
   "cell_type": "markdown",
   "id": "ce645309",
   "metadata": {
    "cellId": "93hvbnhd3sj6tj4jmh35"
   },
   "source": [
    "Видно, что из пушки по воробьям, попробуем упростить сеть"
   ]
  },
  {
   "cell_type": "code",
   "execution_count": 179,
   "id": "43da2442",
   "metadata": {
    "cellId": "7sp3lnq74yfvy9tiaxgblp"
   },
   "outputs": [],
   "source": [
    "#!g1.1\n",
    "class RNN_light(torch.nn.Module):\n",
    "    \n",
    "    def __init__(self):\n",
    "        super().__init__()\n",
    "        self.embed = torch.nn.Embedding(len(alphabet) + caesar_offset, 4)\n",
    "        self.rnn = torch.nn.RNN(4, 16)\n",
    "        self.linear = torch.nn.Linear(16, len(alphabet) + caesar_offset)\n",
    "\n",
    "    def forward(self, sentence, state=None):\n",
    "        embed = self.embed(sentence)\n",
    "        o, h = self.rnn(embed)\n",
    "        return self.linear(o)"
   ]
  },
  {
   "cell_type": "code",
   "execution_count": 180,
   "id": "0604fa63",
   "metadata": {
    "cellId": "mlq9xrehfhcdmyd1sqavi"
   },
   "outputs": [],
   "source": [
    "#!g1.1\n",
    "model = RNN_light().to(device)\n",
    "criterion = torch.nn.CrossEntropyLoss().to(device)\n",
    "optimizer = torch.optim.SGD(model.parameters(), lr=0.05)\n",
    "train_gen = data.DataLoader(train_dataset, batch_size=10, shuffle=True)\n",
    "val_gen = data.DataLoader(val_dataset, batch_size=10, shuffle=False)"
   ]
  },
  {
   "cell_type": "code",
   "execution_count": 181,
   "id": "861f0879",
   "metadata": {
    "cellId": "no2acgaxsee2kznf6xos5k"
   },
   "outputs": [
    {
     "name": "stdout",
     "output_type": "stream",
     "text": [
      "Epoch 10 of 10 took 6.499s\n",
      "  training loss (in-iteration): \t0.001280\n",
      "  validation loss (in-iteration): \t0.001174\n",
      "  training accuracy: \t\t\t99.99 %\n",
      "  validation accuracy: \t\t\t100.00 %\n"
     ]
    },
    {
     "data": {
      "image/png": "[encoded data removed]",
      "text/plain": [
       "<Figure size 1440x360 with 3 Axes>"
      ]
     },
     "metadata": {
      "needs_background": "light"
     },
     "output_type": "display_data"
    }
   ],
   "source": [
    "#!g1.1\n",
    "model, history = train(\n",
    "    model,\n",
    "    criterion,\n",
    "    optimizer,\n",
    "    {\"batch\": [CyclicLR(optimizer,0.001,0.1)]},\n",
    "    train_gen,\n",
    "    val_gen\n",
    ")"
   ]
  },
  {
   "cell_type": "code",
   "execution_count": 182,
   "id": "7442c758",
   "metadata": {
    "cellId": "cw1i66dg3umww6tl6ni0ie"
   },
   "outputs": [
    {
     "name": "stdout",
     "output_type": "stream",
     "text": [
      "сиетп ьдвгцихцтёдвгхцфтодгзпвгуфтёифом\n",
      "небольшая тестовая строка для проверки\n"
     ]
    }
   ],
   "source": [
    "#!g1.1\n",
    "sample = \"небольшая тестовая строка для проверки\"\n",
    "encrypted_sample_idx = [i + caesar_offset for i in [alphabet.find(char) for char in sample]]\n",
    "encrypted_sample = \"\".join([alphabet[i % len(alphabet)] for i in encrypted_sample_idx])\n",
    "\n",
    "result = model(torch.tensor([encrypted_sample_idx]).to(device)).argmax(dim=2)\n",
    "decrypted_sample = \"\".join([alphabet[i.item()] for i in result.flatten()])\n",
    "print(encrypted_sample)\n",
    "print(decrypted_sample)"
   ]
  },
  {
   "cell_type": "markdown",
   "id": "003e9a67",
   "metadata": {
    "cellId": "w95c6mkjjclltwzryxqmyc"
   },
   "source": [
    "## 2. Генерация фраз из Симсонов"
   ]
  },
  {
   "cell_type": "code",
   "execution_count": 510,
   "id": "c3b704d7",
   "metadata": {
    "cellId": "e2hx92rdo5pybaq1ivvcl"
   },
   "outputs": [
    {
     "data": {
      "text/html": [
       "<div>\n",
       "<style scoped>\n",
       "    .dataframe tbody tr th:only-of-type {\n",
       "        vertical-align: middle;\n",
       "    }\n",
       "\n",
       "    .dataframe tbody tr th {\n",
       "        vertical-align: top;\n",
       "    }\n",
       "\n",
       "    .dataframe thead th {\n",
       "        text-align: right;\n",
       "    }\n",
       "</style>\n",
       "<table border=\"1\" class=\"dataframe\">\n",
       "  <thead>\n",
       "    <tr style=\"text-align: right;\">\n",
       "      <th></th>\n",
       "      <th>Unnamed: 0</th>\n",
       "      <th>id</th>\n",
       "      <th>episode_id</th>\n",
       "      <th>number</th>\n",
       "      <th>raw_text</th>\n",
       "      <th>timestamp_in_ms</th>\n",
       "      <th>speaking_line</th>\n",
       "      <th>character_id</th>\n",
       "      <th>location_id</th>\n",
       "      <th>raw_character_text</th>\n",
       "      <th>raw_location_text</th>\n",
       "      <th>spoken_words</th>\n",
       "      <th>normalized_text</th>\n",
       "      <th>word_count</th>\n",
       "    </tr>\n",
       "  </thead>\n",
       "  <tbody>\n",
       "    <tr>\n",
       "      <th>0</th>\n",
       "      <td>0</td>\n",
       "      <td>10368</td>\n",
       "      <td>35</td>\n",
       "      <td>29</td>\n",
       "      <td>Lisa Simpson: Maggie, look. What's that?</td>\n",
       "      <td>235000</td>\n",
       "      <td>True</td>\n",
       "      <td>9</td>\n",
       "      <td>5.0</td>\n",
       "      <td>Lisa Simpson</td>\n",
       "      <td>Simpson Home</td>\n",
       "      <td>Maggie, look. What's that?</td>\n",
       "      <td>maggie look whats that</td>\n",
       "      <td>4.0</td>\n",
       "    </tr>\n",
       "    <tr>\n",
       "      <th>1</th>\n",
       "      <td>1</td>\n",
       "      <td>10369</td>\n",
       "      <td>35</td>\n",
       "      <td>30</td>\n",
       "      <td>Lisa Simpson: Lee-mur. Lee-mur.</td>\n",
       "      <td>237000</td>\n",
       "      <td>True</td>\n",
       "      <td>9</td>\n",
       "      <td>5.0</td>\n",
       "      <td>Lisa Simpson</td>\n",
       "      <td>Simpson Home</td>\n",
       "      <td>Lee-mur. Lee-mur.</td>\n",
       "      <td>lee-mur lee-mur</td>\n",
       "      <td>2.0</td>\n",
       "    </tr>\n",
       "    <tr>\n",
       "      <th>2</th>\n",
       "      <td>2</td>\n",
       "      <td>10370</td>\n",
       "      <td>35</td>\n",
       "      <td>31</td>\n",
       "      <td>Lisa Simpson: Zee-boo. Zee-boo.</td>\n",
       "      <td>239000</td>\n",
       "      <td>True</td>\n",
       "      <td>9</td>\n",
       "      <td>5.0</td>\n",
       "      <td>Lisa Simpson</td>\n",
       "      <td>Simpson Home</td>\n",
       "      <td>Zee-boo. Zee-boo.</td>\n",
       "      <td>zee-boo zee-boo</td>\n",
       "      <td>2.0</td>\n",
       "    </tr>\n",
       "    <tr>\n",
       "      <th>3</th>\n",
       "      <td>3</td>\n",
       "      <td>10372</td>\n",
       "      <td>35</td>\n",
       "      <td>33</td>\n",
       "      <td>Lisa Simpson: I'm trying to teach Maggie that ...</td>\n",
       "      <td>245000</td>\n",
       "      <td>True</td>\n",
       "      <td>9</td>\n",
       "      <td>5.0</td>\n",
       "      <td>Lisa Simpson</td>\n",
       "      <td>Simpson Home</td>\n",
       "      <td>I'm trying to teach Maggie that nature doesn't...</td>\n",
       "      <td>im trying to teach maggie that nature doesnt e...</td>\n",
       "      <td>24.0</td>\n",
       "    </tr>\n",
       "    <tr>\n",
       "      <th>4</th>\n",
       "      <td>4</td>\n",
       "      <td>10374</td>\n",
       "      <td>35</td>\n",
       "      <td>35</td>\n",
       "      <td>Lisa Simpson: It's like an ox, only it has a h...</td>\n",
       "      <td>254000</td>\n",
       "      <td>True</td>\n",
       "      <td>9</td>\n",
       "      <td>5.0</td>\n",
       "      <td>Lisa Simpson</td>\n",
       "      <td>Simpson Home</td>\n",
       "      <td>It's like an ox, only it has a hump and a dewl...</td>\n",
       "      <td>its like an ox only it has a hump and a dewlap...</td>\n",
       "      <td>18.0</td>\n",
       "    </tr>\n",
       "  </tbody>\n",
       "</table>\n",
       "</div>"
      ],
      "text/plain": [
       "   Unnamed: 0  ...  word_count\n",
       "0           0  ...         4.0\n",
       "1           1  ...         2.0\n",
       "2           2  ...         2.0\n",
       "3           3  ...        24.0\n",
       "4           4  ...        18.0\n",
       "\n",
       "[5 rows x 14 columns]"
      ]
     },
     "execution_count": 510,
     "metadata": {},
     "output_type": "execute_result"
    }
   ],
   "source": [
    "#!g1.1\n",
    "# Загружаем данные в DataFrame\n",
    "df = pd.read_csv('data.csv')\n",
    "df.head()"
   ]
  },
  {
   "cell_type": "code",
   "execution_count": 511,
   "id": "462bb1e8",
   "metadata": {
    "cellId": "dvvq00mquipknyummhl8"
   },
   "outputs": [],
   "source": [
    "#!g1.1\n",
    "# Используем столбец с нормализованным текстом\n",
    "alphabet = 'abcdefghijklmnopqrstuvwxyz '\n",
    "phrases = df['normalized_text'].tolist()\n",
    "text = [[c for c in ph.lower() if c in alphabet] for ph in phrases if type(ph) is str]"
   ]
  },
  {
   "cell_type": "code",
   "execution_count": 512,
   "id": "f65e33d0",
   "metadata": {
    "cellId": "ptllt71jcxi2mkauo7n9sj"
   },
   "outputs": [],
   "source": [
    "#!g1.1\n",
    "MAX_LEN = 80\n",
    "text_all = []\n",
    "for t in text:\n",
    "    if len(t) >= MAX_LEN:\n",
    "        text_all.append(t)"
   ]
  },
  {
   "cell_type": "code",
   "execution_count": 513,
   "id": "1a3caa13",
   "metadata": {
    "cellId": "cozxcdkkej6yzooz2a40pl"
   },
   "outputs": [
    {
     "data": {
      "text/plain": [
       "(['i', 'm', ' ', 't', 'r', 'y', 'i', 'n', 'g', ' '], 1757)"
      ]
     },
     "execution_count": 513,
     "metadata": {},
     "output_type": "execute_result"
    }
   ],
   "source": [
    "#!g1.1\n",
    "text_all[0][0:10], len(text_all)"
   ]
  },
  {
   "cell_type": "code",
   "execution_count": 514,
   "id": "b93eef64",
   "metadata": {
    "cellId": "t3y6s19hbnb2t9dnptytwg"
   },
   "outputs": [],
   "source": [
    "#!g1.1\n",
    "# Генерируем набор тензоров с индексами вместо букв\n",
    "\n",
    "all_samples = []\n",
    "for i in range(len(text_all)):\n",
    "    sample = text_all[i]\n",
    "    for j in range(len(sample) - MAX_LEN):\n",
    "        all_samples.append([alphabet.find(char) for char in sample[j:j + MAX_LEN]])"
   ]
  },
  {
   "cell_type": "code",
   "execution_count": 517,
   "id": "083c06d4",
   "metadata": {
    "cellId": "ug58pf09wskvh1wayg0ozd"
   },
   "outputs": [],
   "source": [
    "#!g1.1\n",
    "X = torch.tensor(all_samples).to(device)"
   ]
  },
  {
   "cell_type": "code",
   "execution_count": 518,
   "id": "7c04ee36",
   "metadata": {
    "cellId": "u0hnlw3atjaurt3nchw0pn"
   },
   "outputs": [
    {
     "data": {
      "text/plain": [
       "(61117,\n",
       " tensor([ 8, 12, 26, 19, 17, 24,  8, 13,  6, 26, 19, 14, 26, 19,  4,  0,  2,  7,\n",
       "         26, 12,  0,  6,  6,  8,  4, 26, 19,  7,  0, 19, 26, 13,  0, 19, 20, 17,\n",
       "          4, 26,  3, 14,  4, 18, 13, 19, 26,  4, 13,  3, 26, 22,  8, 19,  7, 26,\n",
       "         19,  7,  4, 26,  1,  0, 17, 13, 24,  0, 17,  3, 26,  8, 26, 22,  0, 13,\n",
       "         19, 26,  7,  4, 17, 26, 19, 14], device='cuda:0'))"
      ]
     },
     "execution_count": 518,
     "metadata": {},
     "output_type": "execute_result"
    }
   ],
   "source": [
    "#!g1.1\n",
    "len(X), X[0]"
   ]
  },
  {
   "cell_type": "code",
   "execution_count": 644,
   "id": "42570aaf",
   "metadata": {
    "cellId": "ahorlhjeua72lde5ufc7u"
   },
   "outputs": [],
   "source": [
    "#!g1.1\n",
    "class Network(torch.nn.Module):\n",
    "    def __init__(self):\n",
    "        super(Network, self).__init__()\n",
    "        self.embedding = torch.nn.Embedding(len(alphabet), 128)\n",
    "        self.rnn = torch.nn.RNN(128, 256, 4)\n",
    "        self.linear = torch.nn.Linear(256, len(alphabet))\n",
    "\n",
    "    def forward(self, sentences, hidden=None):\n",
    "        x = self.embedding(sentences)\n",
    "        x, hidden = self.rnn(x, hidden)\n",
    "        return self.linear(x), hidden"
   ]
  },
  {
   "cell_type": "code",
   "execution_count": 645,
   "id": "127875b4",
   "metadata": {
    "cellId": "ja3urz1ami1ermw9kf78h"
   },
   "outputs": [],
   "source": [
    "#!g1.1\n",
    "model = Network().to(device)"
   ]
  },
  {
   "cell_type": "code",
   "execution_count": 646,
   "id": "a23d9558",
   "metadata": {
    "cellId": "h4d5yisimsbzyzu18ymur9"
   },
   "outputs": [],
   "source": [
    "#!g1.1\n",
    "X_train = X[:, :-1]\n",
    "y_train = X[:, 1:]"
   ]
  },
  {
   "cell_type": "code",
   "execution_count": 647,
   "id": "184d4fd5",
   "metadata": {
    "cellId": "rp1fg9gw3fh90dmms3jfi"
   },
   "outputs": [
    {
     "name": "stdout",
     "output_type": "stream",
     "text": [
      "X: im trying to teach maggie that nature doesnt end with the barnyard i want her t\n",
      "y: m trying to teach maggie that nature doesnt end with the barnyard i want her to\n"
     ]
    }
   ],
   "source": [
    "#!g1.1\n",
    "print('X:', ''.join([alphabet[ind.item()] for ind in X_train[0].flatten()]))\n",
    "print('y:', ''.join([alphabet[ind.item()] for ind in y_train[0].flatten()]))"
   ]
  },
  {
   "cell_type": "code",
   "execution_count": 648,
   "id": "e4a21d3a",
   "metadata": {
    "cellId": "0jq1z5i6ewftl93gm86pjpi"
   },
   "outputs": [],
   "source": [
    "#!g1.1\n",
    "criterion = torch.nn.CrossEntropyLoss().to(device)\n",
    "optimizer = torch.optim.SGD(model.parameters(), lr=.05)\n",
    "\n",
    "dataset = TensorDataset(X_train, y_train)\n",
    "train_size = int(0.9 * len(dataset))\n",
    "val_size = len(dataset) - train_size\n",
    "train_dataset, val_dataset = data.random_split(dataset, [train_size, val_size])\n",
    "train_gen = torch.utils.data.DataLoader(dataset, batch_size=256, shuffle=True)\n",
    "val_gen = torch.utils.data.DataLoader(dataset, batch_size=256, shuffle=False)"
   ]
  },
  {
   "cell_type": "code",
   "execution_count": 649,
   "id": "53106d07",
   "metadata": {
    "cellId": "3r8gsfcgoxtmnbkfbx2wc"
   },
   "outputs": [
    {
     "name": "stdout",
     "output_type": "stream",
     "text": [
      "Epoch 20 of 20 took 5.686s\n",
      "  training loss (in-iteration): \t2.360908\n",
      "  validation loss (in-iteration): \t2.362187\n",
      "  training accuracy: \t\t\t26.68 %\n",
      "  validation accuracy: \t\t\t26.75 %\n"
     ]
    },
    {
     "data": {
      "image/png": "[encoded data removed]",
      "text/plain": [
       "<Figure size 1440x360 with 3 Axes>"
      ]
     },
     "metadata": {
      "needs_background": "light"
     },
     "output_type": "display_data"
    }
   ],
   "source": [
    "#!g1.1\n",
    "model, history = train(\n",
    "    model,\n",
    "    criterion,\n",
    "    optimizer,\n",
    "    {\"epoch\": [CyclicLR(optimizer,0.01,0.1)]},\n",
    "    train_gen,\n",
    "    val_gen,\n",
    "    20\n",
    ")"
   ]
  },
  {
   "cell_type": "code",
   "execution_count": 652,
   "id": "2d3efa73",
   "metadata": {
    "cellId": "341k2hkrqmbzh4aiprnzhh"
   },
   "outputs": [],
   "source": [
    "#!g1.1\n",
    "\n",
    "def generate_sentence(initial_string, length):\n",
    "    hidden = torch.zeros(4, 256).to(device)\n",
    "    initial_input = [alphabet.find(char) for char in list(initial_string)]\n",
    "    predicted = initial_string\n",
    "    \n",
    "    for i in range(len(initial_string) - 1):\n",
    "        _, hidden = model.forward(torch.tensor([initial_input[i]]).to(device), hidden)\n",
    "    inp = initial_input[-1:]\n",
    "    \n",
    "    for i in range(length):\n",
    "        output, hidden = model.forward(torch.tensor(inp).to(device), hidden)\n",
    "        \n",
    "        probas, indices = output.topk(1)\n",
    "        predicted_char = alphabet[indices.flatten()[-1].item()]\n",
    "        predicted += predicted_char\n",
    "        inp = [alphabet.find(predicted_char)]\n",
    "\n",
    "    return predicted"
   ]
  },
  {
   "cell_type": "code",
   "execution_count": 654,
   "id": "c26d14f5",
   "metadata": {
    "cellId": "todgkumqobc52fvcv8nz4n"
   },
   "outputs": [
    {
     "data": {
      "text/plain": [
       "'hellour t t t t t t t t t t t t t t t t t t t t t t t t t t t t t t t t t t t t t t t t t t t t t t t t t'"
      ]
     },
     "execution_count": 654,
     "metadata": {},
     "output_type": "execute_result"
    }
   ],
   "source": [
    "#!g1.1\n",
    "generate_sentence('hello', 100)"
   ]
  }
 ],
 "metadata": {
  "language_info": {
   "codemirror_mode": {
    "name": "ipython",
    "version": 3
   },
   "file_extension": ".py",
   "mimetype": "text/x-python",
   "name": "python",
   "nbconvert_exporter": "python",
   "pygments_lexer": "ipython3",
   "version": "3.7.7"
  },
  "notebookId": "37739627-da87-45f4-b720-6bc9cbd98475",
  "notebookPath": "homework_1.ipynb"
 },
 "nbformat": 4,
 "nbformat_minor": 5
}
